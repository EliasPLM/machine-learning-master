{
 "cells": [
  {
   "cell_type": "code",
   "execution_count": 2,
   "metadata": {},
   "outputs": [],
   "source": [
    "import os\n",
    "import glob\n",
    "import shutil"
   ]
  },
  {
   "cell_type": "code",
   "execution_count": 9,
   "metadata": {},
   "outputs": [
    {
     "name": "stdout",
     "output_type": "stream",
     "text": [
      "Files in chest_xray directory \n",
      "\n",
      "Train image files.\n",
      "Normal: 1341 Pneumonia: 3875 in total 5216 \n",
      "\n",
      "validation image files.\n",
      "Normal: 8 Pneumonia: 8 in total 16 \n",
      "\n",
      "Test image files.\n",
      "Normal: 234 Pneumonia: 390 in total 624 \n",
      "\n"
     ]
    }
   ],
   "source": [
    "# Count the number of image files there is in a directory and each subcategory\n",
    "def CountDirFiles(dirName, pathNormal, pathPneumonia):\n",
    "    #Count Normal subdirectory.\n",
    "    subDirNormal = len(glob.glob1(pathNormal ,'*.jpeg'))\n",
    "    #Count Pneumoia subdirectory.\n",
    "    subDirPneumonia = len(glob.glob1(pathPneumonia ,'*.jpeg'))\n",
    "    \n",
    "    # Print number of file in directory and subcategories.\n",
    "    print('{} image files.'.format(dirName))\n",
    "    print('Normal: {} Pneumonia: {} in total {} \\n'.format(subDirNormal, subDirPneumonia, (subDirNormal + subDirPneumonia)))\n",
    "\n",
    "# Use count directory files fuction on orginal directory.\n",
    "print('Files in chest_xray directory \\n')\n",
    "CountDirFiles('Train','chest_xray/train/NORMAL', 'chest_xray/train/PNEUMONIA')\n",
    "CountDirFiles('validation','chest_xray/val/NORMAL', 'chest_xray/val/PNEUMONIA')\n",
    "CountDirFiles('Test','chest_xray/test/NORMAL', 'chest_xray/test/PNEUMONIA')"
   ]
  },
  {
   "cell_type": "code",
   "execution_count": 10,
   "metadata": {},
   "outputs": [],
   "source": [
    "#Balance the data with copy the same amount of data in each subcategory.\n",
    "def BalanceDir(dirName ,pathNormal, pathPneumonia, newDirNormal, newDirPneumonia):\n",
    "    \n",
    "    #set normal directiory to a varibale.\n",
    "    NormalDirList = glob.glob1(pathNormal ,'*.jpeg')\n",
    "    PneumoniaDirList = glob.glob1(pathPneumonia ,'*.jpeg')\n",
    "    #Message to show when balance processe is done.\n",
    "    message = print('{} has ben balanced.'.format(dirName))\n",
    "    \n",
    "    # If normal subcategory is smaller or egual to Pneumonia ...\n",
    "    if len(NormalDirList) <= len(PneumoniaDirList):\n",
    "        count = 0\n",
    "        # Run for the amount of image there is in normal ...\n",
    "        while(len(NormalDirList) > count):\n",
    "            # Copy image to new directory from original diretory in to 2 subcategory.\n",
    "            shutil.copy('chest_xray/{}/NORMAL/{}'.format(dirName, NormalDirList[count]), newDirNormal)\n",
    "            shutil.copy('chest_xray/{}/PNEUMONIA/{}'.format(dirName, PneumoniaDirList[count]), newDirPneumonia)\n",
    "            count += 1\n",
    "        message\n",
    "            \n",
    "    #Else if pneumonia subcategory is smaller or egual to Normal ...\n",
    "    elif len(NormalDirList) > len(PneumoniaDirList):\n",
    "        count = 0\n",
    "        # Run for the amount of image there is in Pneumonia ...\n",
    "        while(len(PneumoniaDirList) > count):\n",
    "            # Copy image to new directory from original diretory in to 2 subcategory.\n",
    "            shutil.copy('chest_xray/{}/NORMAL/{}'.format(dirName, NormalDirList[count]), newDirNormal)\n",
    "            shutil.copy('chest_xray/{}/PNEUMONIA/{}'.format(dirName, PneumoniaDirList[count]), newDirPneumonia)\n",
    "            count += 1\n",
    "        message"
   ]
  },
  {
   "cell_type": "code",
   "execution_count": 11,
   "metadata": {},
   "outputs": [
    {
     "name": "stdout",
     "output_type": "stream",
     "text": [
      "train has ben balanced.\n",
      "val has ben balanced.\n",
      "test has ben balanced.\n"
     ]
    }
   ],
   "source": [
    "# Make new top directory.\n",
    "os.mkdir('balanced_chest_xray')\n",
    "\n",
    "# Make new train subdirectory with normal and Pnemonia subcategories.\n",
    "os.mkdir('balanced_chest_xray/Train')\n",
    "os.mkdir('balanced_chest_xray/Train/Normal')\n",
    "os.mkdir('balanced_chest_xray/Train/Pneumonia')\n",
    "\n",
    "# Make new val subdirectory with normal and Pnemonia subcategories.\n",
    "os.mkdir('balanced_chest_xray/Val')\n",
    "os.mkdir('balanced_chest_xray/Val/Normal')\n",
    "os.mkdir('balanced_chest_xray/Val/Pneumonia')\n",
    "\n",
    "# Make new test subdirectory with normal and Pnemonia subcategories.\n",
    "os.mkdir('balanced_chest_xray/Test')\n",
    "os.mkdir('balanced_chest_xray/Test/Normal')\n",
    "os.mkdir('balanced_chest_xray/Test/Pneumonia')\n",
    "\n",
    "#Use balance directory fuction on the orginal data to new directory.\n",
    "BalanceDir('train', 'chest_xray/train/NORMAL', 'chest_xray/train/PNEUMONIA', 'balanced_chest_xray/Train/Normal', 'balanced_chest_xray/Train/Pneumonia')\n",
    "BalanceDir('val', 'chest_xray/val/NORMAL', 'chest_xray/val/PNEUMONIA', 'balanced_chest_xray/Val/Normal', 'balanced_chest_xray/Val/Pneumonia')\n",
    "BalanceDir('test', 'chest_xray/test/NORMAL', 'chest_xray/test/PNEUMONIA', 'balanced_chest_xray/Test/Normal', 'balanced_chest_xray/Test/Pneumonia')\n"
   ]
  },
  {
   "cell_type": "code",
   "execution_count": 12,
   "metadata": {},
   "outputs": [],
   "source": [
    "#Move 225 image from each subcategories to validation set from the new dataset.\n",
    "NormalTestDirNew = glob.glob1('balanced_chest_xray/Train/Normal' ,'*.jpeg')\n",
    "PneumonTestDirNew = glob.glob1('balanced_chest_xray/Train/Pneumonia' ,'*.jpeg')\n",
    "\n",
    "count = 0\n",
    "while(count < 225):\n",
    "    shutil.move('balanced_chest_xray/Train/Normal/{}'.format(NormalTestDirNew[count]), 'balanced_chest_xray/Val/Normal')\n",
    "    shutil.move('balanced_chest_xray/Train/Pneumonia/{}'.format(PneumonTestDirNew[-count]), 'balanced_chest_xray/Val/Pneumonia')\n",
    "    count += 1"
   ]
  },
  {
   "cell_type": "code",
   "execution_count": 13,
   "metadata": {},
   "outputs": [
    {
     "name": "stdout",
     "output_type": "stream",
     "text": [
      "Files in balanced_chest_xray directory \n",
      "\n",
      "Train image files.\n",
      "Normal: 1116 Pneumonia: 1116 in total 2232 \n",
      "\n",
      "validation image files.\n",
      "Normal: 233 Pneumonia: 233 in total 466 \n",
      "\n",
      "Test image files.\n",
      "Normal: 234 Pneumonia: 234 in total 468 \n",
      "\n"
     ]
    }
   ],
   "source": [
    "#Use count directory files fuction on new balanced directory.\n",
    "print('Files in balanced_chest_xray directory \\n')\n",
    "CountDirFiles('Train','balanced_chest_xray/Train/Normal', 'balanced_chest_xray/Train/Pneumonia')\n",
    "CountDirFiles('validation','balanced_chest_xray/Val/Normal', 'balanced_chest_xray/Val/Pneumonia')\n",
    "CountDirFiles('Test','balanced_chest_xray/Test/Normal', 'balanced_chest_xray/Test/Pneumonia')\n",
    "\n"
   ]
  },
  {
   "cell_type": "code",
   "execution_count": null,
   "metadata": {},
   "outputs": [],
   "source": []
  }
 ],
 "metadata": {
  "kernelspec": {
   "display_name": "Python 3",
   "language": "python",
   "name": "python3"
  },
  "language_info": {
   "codemirror_mode": {
    "name": "ipython",
    "version": 3
   },
   "file_extension": ".py",
   "mimetype": "text/x-python",
   "name": "python",
   "nbconvert_exporter": "python",
   "pygments_lexer": "ipython3",
   "version": "3.7.3"
  }
 },
 "nbformat": 4,
 "nbformat_minor": 2
}
